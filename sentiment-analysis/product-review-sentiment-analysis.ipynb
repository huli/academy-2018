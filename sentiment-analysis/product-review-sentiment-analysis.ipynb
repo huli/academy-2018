{
 "cells": [
  {
   "cell_type": "markdown",
   "metadata": {},
   "source": [
    "### Sentiment Analyse \n",
    "#### Ausgangslage\n",
    "In einem Online Shop können Produkte Reviews in Form von Text geschrieben werden. Wir möchten herausfinden ob der Text positiv oder negativ ist und so die Bewertung für das Produkt erstellen zu können.\n",
    "\n",
    "#### Aufgabe\n",
    "Anhand von Produkten von Amazon wollen wir den Sentiment für die Produkte berechnen. Dies tun wir mittels Textanalyse und Supervised Learning Algorithmen wie MaxEnt oder Naive Bayes."
   ]
  },
  {
   "cell_type": "code",
   "execution_count": null,
   "metadata": {
    "collapsed": true
   },
   "outputs": [],
   "source": [
    "# Installation der NLTK Library\n",
    "!pip install nltk"
   ]
  },
  {
   "cell_type": "code",
   "execution_count": null,
   "metadata": {
    "collapsed": true
   },
   "outputs": [],
   "source": [
    "%matplotlib inline\n",
    "import pandas as pd\n",
    "from itertools import chain\n",
    "import matplotlib.pyplot as plt\n",
    "import matplotlib as mpl\n",
    "import nltk.classify.util\n",
    "from sklearn.model_selection import train_test_split\n",
    "from sklearn.metrics import confusion_matrix\n",
    "from sklearn import metrics\n",
    "from sklearn.metrics import roc_curve, auc\n",
    "from nltk.classify import NaiveBayesClassifier\n",
    "import numpy as np\n",
    "import re\n",
    "import string\n",
    "import nltk\n",
    "\n",
    "import warnings\n",
    "warnings.filterwarnings('ignore')"
   ]
  },
  {
   "cell_type": "markdown",
   "metadata": {},
   "source": [
    "#### Laden der Produkt Daten"
   ]
  },
  {
   "cell_type": "code",
   "execution_count": null,
   "metadata": {
    "collapsed": true
   },
   "outputs": [],
   "source": [
    "csv_data = pd.read_csv(r\"1429_1.csv\")\n",
    "csv_data.head()"
   ]
  },
  {
   "cell_type": "markdown",
   "metadata": {},
   "source": [
    "#### Daten für die Sentiment Analyse extrahieren und null values analyse"
   ]
  },
  {
   "cell_type": "code",
   "execution_count": null,
   "metadata": {
    "collapsed": true,
    "scrolled": true
   },
   "outputs": [],
   "source": [
    "data = csv_data[['reviews.rating' , 'reviews.text' , 'reviews.title' , 'reviews.username']]\n",
    "print(data.isnull().sum())\n",
    "data.head()"
   ]
  },
  {
   "cell_type": "markdown",
   "metadata": {},
   "source": [
    "#### Sentiment anhand des Ratings setzen\n",
    "Alle Produkte die ein Rating von 4 und grösser haben sind positiv. Alle Produkte mit einem Rating von Rating sind neutral und alle die kleiner als 3 sind sind negativ. Das DataFrame mit einer neuen Spalte ergänzen die den Wert positiv oder negativ hat."
   ]
  },
  {
   "cell_type": "code",
   "execution_count": null,
   "metadata": {
    "collapsed": true
   },
   "outputs": [],
   "source": [
    "def set_rating_sentiment(rating):\n",
    "    if rating >= 4:\n",
    "        return \"positive\"\n",
    "    elif rating == 3:\n",
    "        return \"neutral\"\n",
    "    else:\n",
    "        return \"negative\"\n",
    "\n",
    "data[\"sentiment_rating\"] = data[\"reviews.rating\"].apply(set_rating_sentiment)\n",
    "data[\"sentiment_rating\"].value_counts().plot.bar()\n",
    "data[\"sentiment_rating\"].value_counts()"
   ]
  },
  {
   "cell_type": "markdown",
   "metadata": {},
   "source": [
    "#### TODO: Text für die Sentiment Analyse vorbereiten\n",
    "Cleanup des Textes implementieren."
   ]
  },
  {
   "cell_type": "code",
   "execution_count": null,
   "metadata": {
    "collapsed": true
   },
   "outputs": [],
   "source": [
    "# TODO: Methode cleanup_text implementieren (Array mit allen Worten in lowercase erstellen und Leerzeichen entfernen)\n",
    "cleanup_re = re.compile('[^a-z]+')\n",
    "def cleanup_text(sentence):\n",
    "    # TODO\n",
    "    return sentence"
   ]
  },
  {
   "cell_type": "markdown",
   "metadata": {},
   "source": [
    "#### Cleanup des Text für alle Rows durchführen"
   ]
  },
  {
   "cell_type": "code",
   "execution_count": null,
   "metadata": {
    "collapsed": true
   },
   "outputs": [],
   "source": [
    "sentiment = data[data[\"reviews.text\"].notnull()]\n",
    "sentiment[\"text_clean\"] = sentiment[\"reviews.text\"].apply(cleanup_text)\n",
    "sentiment.head()"
   ]
  },
  {
   "cell_type": "markdown",
   "metadata": {},
   "source": [
    "#### Implementation der Sentiment Analyse mittels NLTK\n",
    "Implementierung einer einfachen Sentiment Analyse des Textes. Das Sentiment muss mit einer Spalte mit dem dem Text Sentiment ergänzt werden. Dies kann mittels SentimentIntensityAnalyzer https://www.nltk.org/api/nltk.sentiment.html umgesetzt werden. Für den Score des Textes kann die Methode polarity_scores verwendet werden. Ist der Score 0.0 ist der Sentiment neutral, ist der Score grösser als 0.0 ist der Sentiment positiv ansonsten ist er negativ. "
   ]
  },
  {
   "cell_type": "code",
   "execution_count": null,
   "metadata": {
    "collapsed": true
   },
   "outputs": [],
   "source": [
    "from nltk.sentiment.vader import SentimentIntensityAnalyzer\n",
    "nltk.download('vader_lexicon')\n",
    "\n",
    "sentiment_analyzer = SentimentIntensityAnalyzer()"
   ]
  },
  {
   "cell_type": "code",
   "execution_count": null,
   "metadata": {
    "collapsed": true
   },
   "outputs": [],
   "source": [
    "# TODO: Methode get_sentiment(text) implementieren (Entsprechend 'neutral', 'positive' oder 'negativ' zurückgeben)\n",
    "def get_sentiment(text):\n",
    "    # TODO"
   ]
  },
  {
   "cell_type": "code",
   "execution_count": null,
   "metadata": {
    "collapsed": true
   },
   "outputs": [],
   "source": [
    "sentiment[\"sentiment_text\"] = sentiment[\"text_clean\"].apply(get_sentiment)\n",
    "\n",
    "sentiment[\"sentiment_text\"].value_counts().plot.bar()\n",
    "sentiment[\"sentiment_text\"].value_counts()"
   ]
  },
  {
   "cell_type": "markdown",
   "metadata": {},
   "source": [
    "#### Ausgabe der negativen Kommentare"
   ]
  },
  {
   "cell_type": "code",
   "execution_count": null,
   "metadata": {
    "collapsed": true
   },
   "outputs": [],
   "source": [
    "negative_summary = list()\n",
    "for k, v in sentiment.iterrows():\n",
    "    if v[\"sentiment_text\"] == \"negative\":\n",
    "        negative_summary.append({\"text\": v[\"text_clean\"], \"sentiment\": v[\"sentiment_text\"]})\n",
    "\n",
    "pd.set_option('display.max_colwidth', -1)      \n",
    "pd.DataFrame(negative_summary).head(50)"
   ]
  },
  {
   "cell_type": "markdown",
   "metadata": {},
   "source": [
    "#### Vergleich Rating und Text Sentiment"
   ]
  },
  {
   "cell_type": "code",
   "execution_count": null,
   "metadata": {
    "collapsed": true
   },
   "outputs": [],
   "source": [
    "sentiment[\"equal\"] = sentiment[\"sentiment_rating\"] == sentiment[\"sentiment_text\"]\n",
    "\n",
    "sentiment[\"equal\"].value_counts().plot.bar()\n",
    "sentiment[\"equal\"].value_counts()"
   ]
  },
  {
   "cell_type": "markdown",
   "metadata": {},
   "source": [
    "#### Sentiment Analyse mittls Naive Bayes Classifier\n",
    "Die Daten werden für den Classifier aufbereitet"
   ]
  },
  {
   "cell_type": "code",
   "execution_count": null,
   "metadata": {
    "collapsed": true
   },
   "outputs": [],
   "source": [
    "sentiment[\"sentiment_classifier\"] = sentiment[\"reviews.rating\"] >= 4\n",
    "sentiment[\"sentiment_classifier\"] = sentiment[\"sentiment_classifier\"].replace([True , False] , [\"pos\" , \"neg\"])"
   ]
  },
  {
   "cell_type": "code",
   "execution_count": null,
   "metadata": {
    "collapsed": true
   },
   "outputs": [],
   "source": [
    "sentiment_classifier = sentiment[[\"reviews.text\", \"sentiment_classifier\"]][:100].values\n",
    "all_words = set(word.lower() for s in sentiment_classifier for word in nltk.tokenize.word_tokenize(s[0]))\n",
    "train = [({word: (word in nltk.tokenize.word_tokenize(x[0])) for word in all_words}, x[1]) for x in sentiment_classifier]"
   ]
  },
  {
   "cell_type": "markdown",
   "metadata": {},
   "source": [
    "#### TODO: Naive Bayes Classifier trainieren\n",
    "Der Classifier muss zuerst trainiert werden. Traniert den NaiveBayesClassifier https://www.nltk.org/book/ch06.html aus der NLTK Libary mit den Trainingsdaten."
   ]
  },
  {
   "cell_type": "code",
   "execution_count": null,
   "metadata": {
    "collapsed": true
   },
   "outputs": [],
   "source": [
    "# TODO: NaiveBayesClassifier trainieren"
   ]
  },
  {
   "cell_type": "markdown",
   "metadata": {},
   "source": [
    "#### TODO: Satz mit dem trainierten Classifier klassifizieren\n",
    "Der oben trainierte Classifieren mittels eines Satz testen. Der Wert der zurückgeliefert wird ist \"pos\" oder \"neg\". Der Satz muss zuerst in Feaures umgewandelt werden."
   ]
  },
  {
   "cell_type": "code",
   "execution_count": null,
   "metadata": {
    "collapsed": true
   },
   "outputs": [],
   "source": [
    "def sentence_to_feature(sentence):\n",
    "    return {word.lower(): (word in nltk.tokenize.word_tokenize(test_sentence.lower())) for word in all_words}"
   ]
  },
  {
   "cell_type": "code",
   "execution_count": null,
   "metadata": {
    "collapsed": true
   },
   "outputs": [],
   "source": [
    "# TODO: Irgeneinen Satz in Englisch testen mit sentence_to_feature(test_sentence)"
   ]
  },
  {
   "cell_type": "markdown",
   "metadata": {},
   "source": [
    "#### TODO: Bestimmen der Accuracy\n",
    "Zum Schluss noch die Metrik Accuracy für den trainierten Classifier bestimmen.\n",
    "* Erstellen eines Test Datasets mit den Rows von 101 bis 200\n",
    "* Accuracy für das Test Dataset bestimmen"
   ]
  },
  {
   "cell_type": "code",
   "execution_count": null,
   "metadata": {
    "collapsed": true
   },
   "outputs": [],
   "source": [
    "sentiment_classifier = sentiment[[\"reviews.text\", \"sentiment_classifier\"]][101:200].values\n",
    "all_words_test = set(word.lower() for s in sentiment_classifier for word in nltk.tokenize.word_tokenize(s[0]))\n",
    "test = [({word: (word in nltk.tokenize.word_tokenize(x[0])) for word in all_words_test}, x[1]) for x in sentiment_classifier]\n",
    "\n",
    "# TODO: Accuracy testen mit nltk-classifier"
   ]
  }
 ],
 "metadata": {
  "kernelspec": {
   "display_name": "Python 3",
   "language": "python",
   "name": "python3"
  },
  "language_info": {
   "codemirror_mode": {
    "name": "ipython",
    "version": 3
   },
   "file_extension": ".py",
   "mimetype": "text/x-python",
   "name": "python",
   "nbconvert_exporter": "python",
   "pygments_lexer": "ipython3",
   "version": "3.6.2"
  }
 },
 "nbformat": 4,
 "nbformat_minor": 2
}
